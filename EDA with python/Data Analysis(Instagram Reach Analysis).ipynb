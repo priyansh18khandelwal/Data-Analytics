{
 "cells": [
  {
   "cell_type": "markdown",
   "id": "22d25c23",
   "metadata": {},
   "source": [
    "# Importing the Libraries"
   ]
  },
  {
   "cell_type": "code",
   "execution_count": 1,
   "id": "13a488b0",
   "metadata": {},
   "outputs": [
    {
     "ename": "ModuleNotFoundError",
     "evalue": "No module named 'xgboost'",
     "output_type": "error",
     "traceback": [
      "\u001b[1;31m---------------------------------------------------------------------------\u001b[0m",
      "\u001b[1;31mModuleNotFoundError\u001b[0m                       Traceback (most recent call last)",
      "Input \u001b[1;32mIn [1]\u001b[0m, in \u001b[0;36m<cell line: 12>\u001b[1;34m()\u001b[0m\n\u001b[0;32m     10\u001b[0m \u001b[38;5;28;01mfrom\u001b[39;00m \u001b[38;5;21;01msklearn\u001b[39;00m\u001b[38;5;21;01m.\u001b[39;00m\u001b[38;5;21;01mmodel_selection\u001b[39;00m \u001b[38;5;28;01mimport\u001b[39;00m train_test_split\n\u001b[0;32m     11\u001b[0m \u001b[38;5;28;01mfrom\u001b[39;00m \u001b[38;5;21;01msklearn\u001b[39;00m\u001b[38;5;21;01m.\u001b[39;00m\u001b[38;5;21;01mlinear_model\u001b[39;00m \u001b[38;5;28;01mimport\u001b[39;00m LinearRegression\n\u001b[1;32m---> 12\u001b[0m \u001b[38;5;28;01mfrom\u001b[39;00m \u001b[38;5;21;01mxgboost\u001b[39;00m \u001b[38;5;28;01mimport\u001b[39;00m XGBRegressor\n\u001b[0;32m     13\u001b[0m \u001b[38;5;28;01mfrom\u001b[39;00m \u001b[38;5;21;01msklearn\u001b[39;00m\u001b[38;5;21;01m.\u001b[39;00m\u001b[38;5;21;01mmodel_selection\u001b[39;00m \u001b[38;5;28;01mimport\u001b[39;00m cross_val_score\n\u001b[0;32m     14\u001b[0m \u001b[38;5;28;01mfrom\u001b[39;00m \u001b[38;5;21;01msklearn\u001b[39;00m\u001b[38;5;21;01m.\u001b[39;00m\u001b[38;5;21;01mmodel_selection\u001b[39;00m \u001b[38;5;28;01mimport\u001b[39;00m RepeatedKFold\n",
      "\u001b[1;31mModuleNotFoundError\u001b[0m: No module named 'xgboost'"
     ]
    }
   ],
   "source": [
    "import numpy as np\n",
    "import pandas as pd \n",
    "import warnings\n",
    "warnings.filterwarnings(\"ignore\")\n",
    "pd.set_option('display.max_columns', None)\n",
    "import matplotlib.pyplot as plt\n",
    "import seaborn as sns\n",
    "sns.set_style('darkgrid')\n",
    "from numpy import absolute\n",
    "from sklearn.model_selection import train_test_split\n",
    "from sklearn.linear_model import LinearRegression\n",
    "from xgboost import XGBRegressor\n",
    "from sklearn.model_selection import cross_val_score\n",
    "from sklearn.model_selection import RepeatedKFold"
   ]
  },
  {
   "cell_type": "code",
   "execution_count": null,
   "id": "6bb70644",
   "metadata": {},
   "outputs": [],
   "source": []
  },
  {
   "cell_type": "code",
   "execution_count": 36,
   "id": "e6351f3e",
   "metadata": {},
   "outputs": [
    {
     "data": {
      "text/plain": [
       "['.ipynb_checkpoints',\n",
       " '71 Centuries of Virat Kohli.csv',\n",
       " 'Cause of Deaths(Data Analysis).ipynb',\n",
       " 'cause_of_deaths.csv',\n",
       " 'Data Analysis(FIFA World Cup).ipynb',\n",
       " 'Data Analysis(Hotel booking).ipynb',\n",
       " 'Data Analysis(Indian Railway).ipynb',\n",
       " 'Data Analysis(Instagram Reach Analysis).ipynb',\n",
       " 'Data Analysis(Netflix).ipynb',\n",
       " 'Data Analysis(Zomato).ipynb',\n",
       " 'Data Analytics using logistic Regression(Student data).ipynb',\n",
       " 'hotel_bookings 2.csv',\n",
       " 'Indian_railway1.csv',\n",
       " 'instagram_reach.csv',\n",
       " 'location_booktable.csv',\n",
       " 'location_online.csv',\n",
       " 'location_Type.csv',\n",
       " 'netflix1.csv',\n",
       " 'Students data.csv',\n",
       " 'Virat Kohli 71 Centuries(Data Analysis).ipynb',\n",
       " 'Virat_Kohli_ODI.csv',\n",
       " 'WorldCupMatches.csv',\n",
       " 'WorldCupPlayers.csv',\n",
       " 'WorldCups.csv',\n",
       " 'zomato.csv']"
      ]
     },
     "execution_count": 36,
     "metadata": {},
     "output_type": "execute_result"
    }
   ],
   "source": [
    "os.listdir()"
   ]
  },
  {
   "cell_type": "code",
   "execution_count": 37,
   "id": "31eac939",
   "metadata": {},
   "outputs": [],
   "source": [
    "df=pd.read_csv('instagram_reach.csv')"
   ]
  },
  {
   "cell_type": "code",
   "execution_count": 38,
   "id": "da342107",
   "metadata": {},
   "outputs": [
    {
     "data": {
      "text/html": [
       "<div>\n",
       "<style scoped>\n",
       "    .dataframe tbody tr th:only-of-type {\n",
       "        vertical-align: middle;\n",
       "    }\n",
       "\n",
       "    .dataframe tbody tr th {\n",
       "        vertical-align: top;\n",
       "    }\n",
       "\n",
       "    .dataframe thead th {\n",
       "        text-align: right;\n",
       "    }\n",
       "</style>\n",
       "<table border=\"1\" class=\"dataframe\">\n",
       "  <thead>\n",
       "    <tr style=\"text-align: right;\">\n",
       "      <th></th>\n",
       "      <th>Unnamed: 0</th>\n",
       "      <th>S.No</th>\n",
       "      <th>USERNAME</th>\n",
       "      <th>Caption</th>\n",
       "      <th>Followers</th>\n",
       "      <th>Hashtags</th>\n",
       "      <th>Time since posted</th>\n",
       "      <th>Likes</th>\n",
       "    </tr>\n",
       "  </thead>\n",
       "  <tbody>\n",
       "    <tr>\n",
       "      <th>0</th>\n",
       "      <td>0</td>\n",
       "      <td>1</td>\n",
       "      <td>mikequindazzi</td>\n",
       "      <td>Who are #DataScientist and what do they do? &gt;&gt;...</td>\n",
       "      <td>1600</td>\n",
       "      <td>#MachineLearning #AI #DataAnalytics #DataScien...</td>\n",
       "      <td>11 hours</td>\n",
       "      <td>139</td>\n",
       "    </tr>\n",
       "    <tr>\n",
       "      <th>1</th>\n",
       "      <td>1</td>\n",
       "      <td>2</td>\n",
       "      <td>drgorillapaints</td>\n",
       "      <td>We all know where it’s going. We just have to ...</td>\n",
       "      <td>880</td>\n",
       "      <td>#deck .#mac #macintosh#sayhello #apple #steve...</td>\n",
       "      <td>2 hours</td>\n",
       "      <td>23</td>\n",
       "    </tr>\n",
       "    <tr>\n",
       "      <th>2</th>\n",
       "      <td>2</td>\n",
       "      <td>3</td>\n",
       "      <td>aitrading_official</td>\n",
       "      <td>Alexander Barinov: 4 years as CFO in multinati...</td>\n",
       "      <td>255</td>\n",
       "      <td>#whoiswho #aitrading #ai #aitradingteam#instat...</td>\n",
       "      <td>2 hours</td>\n",
       "      <td>25</td>\n",
       "    </tr>\n",
       "    <tr>\n",
       "      <th>3</th>\n",
       "      <td>3</td>\n",
       "      <td>4</td>\n",
       "      <td>opensourcedworkplace</td>\n",
       "      <td>sfad</td>\n",
       "      <td>340</td>\n",
       "      <td>#iot #cre#workplace #CDO #bigdata #technology#...</td>\n",
       "      <td>3 hours</td>\n",
       "      <td>49</td>\n",
       "    </tr>\n",
       "    <tr>\n",
       "      <th>4</th>\n",
       "      <td>4</td>\n",
       "      <td>5</td>\n",
       "      <td>crea.vision</td>\n",
       "      <td>Ever missed a call while your phone was chargi...</td>\n",
       "      <td>304</td>\n",
       "      <td>#instamachinelearning #instabigdata#instamarke...</td>\n",
       "      <td>3 hours</td>\n",
       "      <td>30</td>\n",
       "    </tr>\n",
       "  </tbody>\n",
       "</table>\n",
       "</div>"
      ],
      "text/plain": [
       "   Unnamed: 0  S.No              USERNAME  \\\n",
       "0           0     1         mikequindazzi   \n",
       "1           1     2       drgorillapaints   \n",
       "2           2     3    aitrading_official   \n",
       "3           3     4  opensourcedworkplace   \n",
       "4           4     5           crea.vision   \n",
       "\n",
       "                                             Caption  Followers  \\\n",
       "0  Who are #DataScientist and what do they do? >>...       1600   \n",
       "1  We all know where it’s going. We just have to ...        880   \n",
       "2  Alexander Barinov: 4 years as CFO in multinati...        255   \n",
       "3                                               sfad        340   \n",
       "4  Ever missed a call while your phone was chargi...        304   \n",
       "\n",
       "                                            Hashtags Time since posted  Likes  \n",
       "0  #MachineLearning #AI #DataAnalytics #DataScien...          11 hours    139  \n",
       "1   #deck .#mac #macintosh#sayhello #apple #steve...           2 hours     23  \n",
       "2  #whoiswho #aitrading #ai #aitradingteam#instat...           2 hours     25  \n",
       "3  #iot #cre#workplace #CDO #bigdata #technology#...           3 hours     49  \n",
       "4  #instamachinelearning #instabigdata#instamarke...           3 hours     30  "
      ]
     },
     "execution_count": 38,
     "metadata": {},
     "output_type": "execute_result"
    }
   ],
   "source": [
    "df.head(5)"
   ]
  },
  {
   "cell_type": "code",
   "execution_count": 39,
   "id": "4ff8ed43",
   "metadata": {},
   "outputs": [
    {
     "data": {
      "text/html": [
       "<div>\n",
       "<style scoped>\n",
       "    .dataframe tbody tr th:only-of-type {\n",
       "        vertical-align: middle;\n",
       "    }\n",
       "\n",
       "    .dataframe tbody tr th {\n",
       "        vertical-align: top;\n",
       "    }\n",
       "\n",
       "    .dataframe thead th {\n",
       "        text-align: right;\n",
       "    }\n",
       "</style>\n",
       "<table border=\"1\" class=\"dataframe\">\n",
       "  <thead>\n",
       "    <tr style=\"text-align: right;\">\n",
       "      <th></th>\n",
       "      <th>Unnamed: 0</th>\n",
       "      <th>S.No</th>\n",
       "      <th>Followers</th>\n",
       "      <th>Likes</th>\n",
       "    </tr>\n",
       "  </thead>\n",
       "  <tbody>\n",
       "    <tr>\n",
       "      <th>count</th>\n",
       "      <td>100.000000</td>\n",
       "      <td>100.000000</td>\n",
       "      <td>100.00000</td>\n",
       "      <td>100.00000</td>\n",
       "    </tr>\n",
       "    <tr>\n",
       "      <th>mean</th>\n",
       "      <td>8.940000</td>\n",
       "      <td>16.240000</td>\n",
       "      <td>961.96000</td>\n",
       "      <td>46.48000</td>\n",
       "    </tr>\n",
       "    <tr>\n",
       "      <th>std</th>\n",
       "      <td>6.639064</td>\n",
       "      <td>7.384286</td>\n",
       "      <td>1014.62567</td>\n",
       "      <td>55.08698</td>\n",
       "    </tr>\n",
       "    <tr>\n",
       "      <th>min</th>\n",
       "      <td>0.000000</td>\n",
       "      <td>1.000000</td>\n",
       "      <td>11.00000</td>\n",
       "      <td>8.00000</td>\n",
       "    </tr>\n",
       "    <tr>\n",
       "      <th>25%</th>\n",
       "      <td>4.000000</td>\n",
       "      <td>10.750000</td>\n",
       "      <td>252.75000</td>\n",
       "      <td>19.00000</td>\n",
       "    </tr>\n",
       "    <tr>\n",
       "      <th>50%</th>\n",
       "      <td>8.000000</td>\n",
       "      <td>16.500000</td>\n",
       "      <td>612.00000</td>\n",
       "      <td>29.00000</td>\n",
       "    </tr>\n",
       "    <tr>\n",
       "      <th>75%</th>\n",
       "      <td>12.250000</td>\n",
       "      <td>22.250000</td>\n",
       "      <td>1197.00000</td>\n",
       "      <td>46.00000</td>\n",
       "    </tr>\n",
       "    <tr>\n",
       "      <th>max</th>\n",
       "      <td>26.000000</td>\n",
       "      <td>30.000000</td>\n",
       "      <td>4496.00000</td>\n",
       "      <td>349.00000</td>\n",
       "    </tr>\n",
       "  </tbody>\n",
       "</table>\n",
       "</div>"
      ],
      "text/plain": [
       "       Unnamed: 0        S.No   Followers      Likes\n",
       "count  100.000000  100.000000   100.00000  100.00000\n",
       "mean     8.940000   16.240000   961.96000   46.48000\n",
       "std      6.639064    7.384286  1014.62567   55.08698\n",
       "min      0.000000    1.000000    11.00000    8.00000\n",
       "25%      4.000000   10.750000   252.75000   19.00000\n",
       "50%      8.000000   16.500000   612.00000   29.00000\n",
       "75%     12.250000   22.250000  1197.00000   46.00000\n",
       "max     26.000000   30.000000  4496.00000  349.00000"
      ]
     },
     "execution_count": 39,
     "metadata": {},
     "output_type": "execute_result"
    }
   ],
   "source": [
    "df.describe()"
   ]
  },
  {
   "cell_type": "code",
   "execution_count": 40,
   "id": "e55e0204",
   "metadata": {},
   "outputs": [
    {
     "data": {
      "text/html": [
       "<div>\n",
       "<style scoped>\n",
       "    .dataframe tbody tr th:only-of-type {\n",
       "        vertical-align: middle;\n",
       "    }\n",
       "\n",
       "    .dataframe tbody tr th {\n",
       "        vertical-align: top;\n",
       "    }\n",
       "\n",
       "    .dataframe thead th {\n",
       "        text-align: right;\n",
       "    }\n",
       "</style>\n",
       "<table border=\"1\" class=\"dataframe\">\n",
       "  <thead>\n",
       "    <tr style=\"text-align: right;\">\n",
       "      <th></th>\n",
       "      <th>Unnamed: 0</th>\n",
       "      <th>S.No</th>\n",
       "      <th>USERNAME</th>\n",
       "      <th>Caption</th>\n",
       "      <th>Followers</th>\n",
       "      <th>Hashtags</th>\n",
       "      <th>Time since posted</th>\n",
       "      <th>Likes</th>\n",
       "    </tr>\n",
       "  </thead>\n",
       "  <tbody>\n",
       "    <tr>\n",
       "      <th>0</th>\n",
       "      <td>False</td>\n",
       "      <td>False</td>\n",
       "      <td>False</td>\n",
       "      <td>False</td>\n",
       "      <td>False</td>\n",
       "      <td>False</td>\n",
       "      <td>False</td>\n",
       "      <td>False</td>\n",
       "    </tr>\n",
       "    <tr>\n",
       "      <th>1</th>\n",
       "      <td>False</td>\n",
       "      <td>False</td>\n",
       "      <td>False</td>\n",
       "      <td>False</td>\n",
       "      <td>False</td>\n",
       "      <td>False</td>\n",
       "      <td>False</td>\n",
       "      <td>False</td>\n",
       "    </tr>\n",
       "    <tr>\n",
       "      <th>2</th>\n",
       "      <td>False</td>\n",
       "      <td>False</td>\n",
       "      <td>False</td>\n",
       "      <td>False</td>\n",
       "      <td>False</td>\n",
       "      <td>False</td>\n",
       "      <td>False</td>\n",
       "      <td>False</td>\n",
       "    </tr>\n",
       "    <tr>\n",
       "      <th>3</th>\n",
       "      <td>False</td>\n",
       "      <td>False</td>\n",
       "      <td>False</td>\n",
       "      <td>False</td>\n",
       "      <td>False</td>\n",
       "      <td>False</td>\n",
       "      <td>False</td>\n",
       "      <td>False</td>\n",
       "    </tr>\n",
       "    <tr>\n",
       "      <th>4</th>\n",
       "      <td>False</td>\n",
       "      <td>False</td>\n",
       "      <td>False</td>\n",
       "      <td>False</td>\n",
       "      <td>False</td>\n",
       "      <td>False</td>\n",
       "      <td>False</td>\n",
       "      <td>False</td>\n",
       "    </tr>\n",
       "    <tr>\n",
       "      <th>...</th>\n",
       "      <td>...</td>\n",
       "      <td>...</td>\n",
       "      <td>...</td>\n",
       "      <td>...</td>\n",
       "      <td>...</td>\n",
       "      <td>...</td>\n",
       "      <td>...</td>\n",
       "      <td>...</td>\n",
       "    </tr>\n",
       "    <tr>\n",
       "      <th>95</th>\n",
       "      <td>False</td>\n",
       "      <td>False</td>\n",
       "      <td>False</td>\n",
       "      <td>False</td>\n",
       "      <td>False</td>\n",
       "      <td>False</td>\n",
       "      <td>False</td>\n",
       "      <td>False</td>\n",
       "    </tr>\n",
       "    <tr>\n",
       "      <th>96</th>\n",
       "      <td>False</td>\n",
       "      <td>False</td>\n",
       "      <td>False</td>\n",
       "      <td>False</td>\n",
       "      <td>False</td>\n",
       "      <td>False</td>\n",
       "      <td>False</td>\n",
       "      <td>False</td>\n",
       "    </tr>\n",
       "    <tr>\n",
       "      <th>97</th>\n",
       "      <td>False</td>\n",
       "      <td>False</td>\n",
       "      <td>False</td>\n",
       "      <td>False</td>\n",
       "      <td>False</td>\n",
       "      <td>False</td>\n",
       "      <td>False</td>\n",
       "      <td>False</td>\n",
       "    </tr>\n",
       "    <tr>\n",
       "      <th>98</th>\n",
       "      <td>False</td>\n",
       "      <td>False</td>\n",
       "      <td>False</td>\n",
       "      <td>False</td>\n",
       "      <td>False</td>\n",
       "      <td>False</td>\n",
       "      <td>False</td>\n",
       "      <td>False</td>\n",
       "    </tr>\n",
       "    <tr>\n",
       "      <th>99</th>\n",
       "      <td>False</td>\n",
       "      <td>False</td>\n",
       "      <td>False</td>\n",
       "      <td>False</td>\n",
       "      <td>False</td>\n",
       "      <td>False</td>\n",
       "      <td>False</td>\n",
       "      <td>False</td>\n",
       "    </tr>\n",
       "  </tbody>\n",
       "</table>\n",
       "<p>100 rows × 8 columns</p>\n",
       "</div>"
      ],
      "text/plain": [
       "    Unnamed: 0   S.No  USERNAME  Caption  Followers  Hashtags  \\\n",
       "0        False  False     False    False      False     False   \n",
       "1        False  False     False    False      False     False   \n",
       "2        False  False     False    False      False     False   \n",
       "3        False  False     False    False      False     False   \n",
       "4        False  False     False    False      False     False   \n",
       "..         ...    ...       ...      ...        ...       ...   \n",
       "95       False  False     False    False      False     False   \n",
       "96       False  False     False    False      False     False   \n",
       "97       False  False     False    False      False     False   \n",
       "98       False  False     False    False      False     False   \n",
       "99       False  False     False    False      False     False   \n",
       "\n",
       "    Time since posted  Likes  \n",
       "0               False  False  \n",
       "1               False  False  \n",
       "2               False  False  \n",
       "3               False  False  \n",
       "4               False  False  \n",
       "..                ...    ...  \n",
       "95              False  False  \n",
       "96              False  False  \n",
       "97              False  False  \n",
       "98              False  False  \n",
       "99              False  False  \n",
       "\n",
       "[100 rows x 8 columns]"
      ]
     },
     "execution_count": 40,
     "metadata": {},
     "output_type": "execute_result"
    }
   ],
   "source": [
    "df.isnull()"
   ]
  },
  {
   "cell_type": "code",
   "execution_count": 41,
   "id": "7e8f1431",
   "metadata": {},
   "outputs": [
    {
     "data": {
      "text/plain": [
       "Unnamed: 0           0\n",
       "S.No                 0\n",
       "USERNAME             0\n",
       "Caption              6\n",
       "Followers            0\n",
       "Hashtags             0\n",
       "Time since posted    0\n",
       "Likes                0\n",
       "dtype: int64"
      ]
     },
     "execution_count": 41,
     "metadata": {},
     "output_type": "execute_result"
    }
   ],
   "source": [
    "df.isnull().sum()"
   ]
  },
  {
   "cell_type": "code",
   "execution_count": 42,
   "id": "cb426feb",
   "metadata": {},
   "outputs": [],
   "source": [
    "df.drop(['Caption'],axis=1,inplace=True)\n",
    "df.dropna(inplace=True)"
   ]
  },
  {
   "cell_type": "code",
   "execution_count": 43,
   "id": "78dc82cf",
   "metadata": {},
   "outputs": [
    {
     "data": {
      "text/plain": [
       "Unnamed: 0           0\n",
       "S.No                 0\n",
       "USERNAME             0\n",
       "Followers            0\n",
       "Hashtags             0\n",
       "Time since posted    0\n",
       "Likes                0\n",
       "dtype: int64"
      ]
     },
     "execution_count": 43,
     "metadata": {},
     "output_type": "execute_result"
    }
   ],
   "source": [
    "df.isnull().sum()"
   ]
  },
  {
   "cell_type": "code",
   "execution_count": 44,
   "id": "40ae7d59",
   "metadata": {},
   "outputs": [
    {
     "data": {
      "text/plain": [
       "(100, 7)"
      ]
     },
     "execution_count": 44,
     "metadata": {},
     "output_type": "execute_result"
    }
   ],
   "source": [
    "df.shape"
   ]
  },
  {
   "cell_type": "markdown",
   "id": "62dc70f2",
   "metadata": {},
   "source": [
    "Remove unnecessary column"
   ]
  },
  {
   "cell_type": "code",
   "execution_count": 45,
   "id": "a91caa2b",
   "metadata": {},
   "outputs": [],
   "source": [
    "#because there is only 6 main features (columns), \"Unnamed:0\" and \"S.No\" columns will removed\n",
    "df.drop(['Unnamed: 0','S.No'],axis=1,inplace=True)\n",
    "df.dropna(inplace=True)"
   ]
  },
  {
   "cell_type": "code",
   "execution_count": 46,
   "id": "a0407899",
   "metadata": {},
   "outputs": [
    {
     "data": {
      "text/plain": [
       "Index(['USERNAME', 'Followers', 'Hashtags', 'Time since posted', 'Likes'], dtype='object')"
      ]
     },
     "execution_count": 46,
     "metadata": {},
     "output_type": "execute_result"
    }
   ],
   "source": [
    "df.columns"
   ]
  },
  {
   "cell_type": "code",
   "execution_count": 47,
   "id": "b3654714",
   "metadata": {},
   "outputs": [
    {
     "name": "stdout",
     "output_type": "stream",
     "text": [
      "<class 'pandas.core.frame.DataFrame'>\n",
      "RangeIndex: 100 entries, 0 to 99\n",
      "Data columns (total 5 columns):\n",
      " #   Column             Non-Null Count  Dtype \n",
      "---  ------             --------------  ----- \n",
      " 0   USERNAME           100 non-null    object\n",
      " 1   Followers          100 non-null    int64 \n",
      " 2   Hashtags           100 non-null    object\n",
      " 3   Time since posted  100 non-null    object\n",
      " 4   Likes              100 non-null    int64 \n",
      "dtypes: int64(2), object(3)\n",
      "memory usage: 4.0+ KB\n"
     ]
    }
   ],
   "source": [
    "df.info()"
   ]
  },
  {
   "cell_type": "code",
   "execution_count": 48,
   "id": "50464066",
   "metadata": {},
   "outputs": [],
   "source": [
    "Time_since_posted_in_hours=[]\n",
    "\n",
    "for i in df['Time since posted']:\n",
    "    Time_since_posted_in_hours.append(i.replace('hours', ''))\n",
    "\n",
    "df.rename(columns={'USERNAME':'Username'}, inplace=True)\n",
    "se = pd.Series(Time_since_posted_in_hours)\n",
    "df['Times since posted (hours)'] = se.values\n",
    "df['Times since posted (hours)'] = pd.to_numeric(df['Times since posted (hours)'])\n",
    "df = df.drop('Time since posted', axis=1)"
   ]
  },
  {
   "cell_type": "code",
   "execution_count": 49,
   "id": "852de3ed",
   "metadata": {},
   "outputs": [
    {
     "name": "stdout",
     "output_type": "stream",
     "text": [
      "<class 'pandas.core.frame.DataFrame'>\n",
      "RangeIndex: 100 entries, 0 to 99\n",
      "Data columns (total 5 columns):\n",
      " #   Column                      Non-Null Count  Dtype \n",
      "---  ------                      --------------  ----- \n",
      " 0   Username                    100 non-null    object\n",
      " 1   Followers                   100 non-null    int64 \n",
      " 2   Hashtags                    100 non-null    object\n",
      " 3   Likes                       100 non-null    int64 \n",
      " 4   Times since posted (hours)  100 non-null    int64 \n",
      "dtypes: int64(3), object(2)\n",
      "memory usage: 4.0+ KB\n"
     ]
    }
   ],
   "source": [
    "#check new data\n",
    "df.info()"
   ]
  },
  {
   "cell_type": "raw",
   "id": "94934593",
   "metadata": {},
   "source": [
    "Followers variable"
   ]
  },
  {
   "cell_type": "code",
   "execution_count": 50,
   "id": "ad47b693",
   "metadata": {},
   "outputs": [
    {
     "data": {
      "image/png": "[encoded data removed]",
      "text/plain": [
       "<Figure size 576x432 with 1 Axes>"
      ]
     },
     "metadata": {},
     "output_type": "display_data"
    }
   ],
   "source": [
    "#Distribution of followers variable\n",
    "plt.figure(figsize=(8,6))\n",
    "sns.distplot(df['Followers'])\n",
    "plt.title('Distribution of Followers')\n",
    "plt.show()"
   ]
  },
  {
   "cell_type": "raw",
   "id": "88f9ee16",
   "metadata": {},
   "source": [
    "Time_since_posted_in_hours variable"
   ]
  },
  {
   "cell_type": "code",
   "execution_count": 51,
   "id": "1508ed48",
   "metadata": {},
   "outputs": [
    {
     "data": {
      "image/png": "[encoded data removed]",
      "text/plain": [
       "<Figure size 576x432 with 1 Axes>"
      ]
     },
     "metadata": {},
     "output_type": "display_data"
    }
   ],
   "source": [
    "plt.figure(figsize=(8,6))\n",
    "sns.distplot(df['Times since posted (hours)'])\n",
    "plt.title(' Distribution of time since posted')\n",
    "plt.show()"
   ]
  },
  {
   "cell_type": "raw",
   "id": "c1b01770",
   "metadata": {},
   "source": [
    "Username variable"
   ]
  },
  {
   "cell_type": "markdown",
   "id": "77a1afbf",
   "metadata": {},
   "source": [
    "unique username"
   ]
  },
  {
   "cell_type": "code",
   "execution_count": 52,
   "id": "e5bd4ab8",
   "metadata": {},
   "outputs": [
    {
     "name": "stdout",
     "output_type": "stream",
     "text": [
      "There are 95 username\n"
     ]
    }
   ],
   "source": [
    "print('There are',df['Username'].nunique(),'username')"
   ]
  },
  {
   "cell_type": "markdown",
   "id": "5d4ab225",
   "metadata": {},
   "source": [
    "Caption variables"
   ]
  },
  {
   "cell_type": "markdown",
   "id": "73d6b227",
   "metadata": {},
   "source": [
    "In analyzing this variable, I will use wordcloud to know which words are mostly used in caption"
   ]
  },
  {
   "cell_type": "raw",
   "id": "b4efd92a",
   "metadata": {},
   "source": [
    "Relationship between two variables"
   ]
  },
  {
   "cell_type": "markdown",
   "id": "6e286371",
   "metadata": {},
   "source": [
    "Times since posted in hours and likes\n",
    "I will use scatterplot to visualize the relationship between these variables"
   ]
  },
  {
   "cell_type": "code",
   "execution_count": 53,
   "id": "5b5b6d08",
   "metadata": {},
   "outputs": [
    {
     "data": {
      "image/png": "[encoded data removed]",
      "text/plain": [
       "<Figure size 360x360 with 1 Axes>"
      ]
     },
     "metadata": {},
     "output_type": "display_data"
    }
   ],
   "source": [
    "sns.lmplot(x='Times since posted (hours)',y='Likes',data=df,fit_reg=True,scatter_kws={\"marker\":'B',\"s\":40})\n",
    "plt.title('Likes vs Times since posted ')\n",
    "plt.xlabel('Times since posted (hours)')\n",
    "plt.ylabel('Likes')\n",
    "plt.show()"
   ]
  },
  {
   "cell_type": "raw",
   "id": "bc8a4237",
   "metadata": {},
   "source": [
    "Followers and likes"
   ]
  },
  {
   "cell_type": "code",
   "execution_count": 54,
   "id": "43f78f1d",
   "metadata": {},
   "outputs": [
    {
     "data": {
      "image/png": "[encoded data removed]",
      "text/plain": [
       "<Figure size 360x360 with 1 Axes>"
      ]
     },
     "metadata": {},
     "output_type": "display_data"
    }
   ],
   "source": [
    "sns.lmplot(x='Followers',y='Likes',data=df,fit_reg=True,scatter_kws={\"marker\":\"D\",\"s\":40})\n",
    "plt.title('Likes vs Followers')\n",
    "plt.xlabel('Followers')\n",
    "plt.ylabel('Likes')\n",
    "plt.show()"
   ]
  },
  {
   "cell_type": "code",
   "execution_count": 55,
   "id": "c758a1e4",
   "metadata": {},
   "outputs": [
    {
     "data": {
      "image/png": "[encoded data removed]",
      "text/plain": [
       "<Figure size 576x432 with 2 Axes>"
      ]
     },
     "metadata": {},
     "output_type": "display_data"
    }
   ],
   "source": [
    "plt.figure(figsize=(8,6))\n",
    "sns.heatmap(df.corr(),cmap=\"YlGnBu\",annot=True)\n",
    "plt.show()"
   ]
  },
  {
   "cell_type": "raw",
   "id": "fa41b658",
   "metadata": {},
   "source": [
    "Modelling\n",
    "Predicting reach with XGBRegressor"
   ]
  },
  {
   "cell_type": "code",
   "execution_count": 56,
   "id": "9c65e320",
   "metadata": {},
   "outputs": [],
   "source": [
    "#Define x variables and y variable\n",
    "x=df[['Followers','Times since posted (hours)']]\n",
    "y=df[['Likes']]\n",
    "df.head()\n",
    "\n",
    "#Split train set and test set\n",
    "X_train,X_test,Y_train,Y_test=train_test_split(x,y,test_size=0.2,random_state=40)"
   ]
  },
  {
   "cell_type": "code",
   "execution_count": 59,
   "id": "bc6cc626",
   "metadata": {},
   "outputs": [
    {
     "ename": "NameError",
     "evalue": "name 'XGBRegressor' is not defined",
     "output_type": "error",
     "traceback": [
      "\u001b[1;31m---------------------------------------------------------------------------\u001b[0m",
      "\u001b[1;31mNameError\u001b[0m                                 Traceback (most recent call last)",
      "Input \u001b[1;32mIn [59]\u001b[0m, in \u001b[0;36m<cell line: 2>\u001b[1;34m()\u001b[0m\n\u001b[0;32m      1\u001b[0m \u001b[38;5;66;03m#Fit the model and predict the value of test set\u001b[39;00m\n\u001b[1;32m----> 2\u001b[0m model \u001b[38;5;241m=\u001b[39m \u001b[43mXGBRegressor\u001b[49m()\n\u001b[0;32m      3\u001b[0m model\u001b[38;5;241m.\u001b[39mfit(X_train, y_train)\n\u001b[0;32m      5\u001b[0m \u001b[38;5;66;03m#Define model evaluation method\u001b[39;00m\n",
      "\u001b[1;31mNameError\u001b[0m: name 'XGBRegressor' is not defined"
     ]
    }
   ],
   "source": [
    "#Fit the model and predict the value of test set\n",
    "model = XGBRegressor()\n",
    "model.fit(X_train, y_train)\n",
    "\n",
    "#Define model evaluation method\n",
    "cv = RepeatedKFold(n_splits=10, n_repeats=5, random_state=1)\n",
    "#Evaluate the model\n",
    "scores = cross_val_score(model, X_test, y_test, scoring='neg_mean_absolute_error', cv=cv, n_jobs=-1)\n",
    "#Absolute MAE\n",
    "scores = absolute(scores)\n",
    "print('Mean MAE: %.3f (%.3f)' % (scores.mean(), scores.std()))"
   ]
  },
  {
   "cell_type": "code",
   "execution_count": null,
   "id": "8da67746",
   "metadata": {},
   "outputs": [],
   "source": []
  },
  {
   "cell_type": "code",
   "execution_count": null,
   "id": "17434486",
   "metadata": {},
   "outputs": [],
   "source": []
  }
 ],
 "metadata": {
  "kernelspec": {
   "display_name": "Python 3 (ipykernel)",
   "language": "python",
   "name": "python3"
  },
  "language_info": {
   "codemirror_mode": {
    "name": "ipython",
    "version": 3
   },
   "file_extension": ".py",
   "mimetype": "text/x-python",
   "name": "python",
   "nbconvert_exporter": "python",
   "pygments_lexer": "ipython3",
   "version": "3.9.12"
  }
 },
 "nbformat": 4,
 "nbformat_minor": 5
}
